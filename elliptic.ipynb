{
  "nbformat": 4,
  "nbformat_minor": 0,
  "metadata": {
    "colab": {
      "name": "elliptic.ipynb",
      "provenance": [],
      "collapsed_sections": [],
      "toc_visible": true,
      "machine_shape": "hm",
      "authorship_tag": "ABX9TyPRvtU1aJAEmunU2ndNQiLw",
      "include_colab_link": true
    },
    "kernelspec": {
      "name": "python3",
      "display_name": "Python 3"
    }
  },
  "cells": [
    {
      "cell_type": "markdown",
      "metadata": {
        "id": "view-in-github",
        "colab_type": "text"
      },
      "source": [
        "<a href=\"https://colab.research.google.com/github/AmaleshV/Elliptic/blob/master/elliptic.ipynb\" target=\"_parent\"><img src=\"https://colab.research.google.com/assets/colab-badge.svg\" alt=\"Open In Colab\"/></a>"
      ]
    },
    {
      "cell_type": "markdown",
      "metadata": {
        "id": "niXkZHz1Xx4k",
        "colab_type": "text"
      },
      "source": [
        "# Increase RAM"
      ]
    },
    {
      "cell_type": "code",
      "metadata": {
        "id": "4k-Q4tEelYnJ",
        "colab_type": "code",
        "colab": {}
      },
      "source": [
        "#not mandatory if and only to increase the ram from 12GB to 26GB\n",
        "d=[]\n",
        "while(1):\n",
        "  d.append('1')"
      ],
      "execution_count": 0,
      "outputs": []
    },
    {
      "cell_type": "code",
      "metadata": {
        "id": "9P00H_RxNplx",
        "colab_type": "code",
        "outputId": "7eab6f7c-c663-489b-c748-dd222d58c3f5",
        "colab": {
          "base_uri": "https://localhost:8080/",
          "height": 34
        }
      },
      "source": [
        "#reset variables if you've any predefined variables\n",
        "%reset"
      ],
      "execution_count": 0,
      "outputs": [
        {
          "output_type": "stream",
          "text": [
            "Once deleted, variables cannot be recovered. Proceed (y/[n])? y\n"
          ],
          "name": "stdout"
        }
      ]
    },
    {
      "cell_type": "markdown",
      "metadata": {
        "id": "wt2_X036YFPu",
        "colab_type": "text"
      },
      "source": [
        "# Mount google drive"
      ]
    },
    {
      "cell_type": "code",
      "metadata": {
        "id": "7oInlj5glrje",
        "colab_type": "code",
        "outputId": "ad06aef9-6e17-4c5f-e699-ae5688ff69e7",
        "colab": {
          "base_uri": "https://localhost:8080/",
          "height": 122
        }
      },
      "source": [
        "from google.colab import drive\n",
        "drive.mount('/content/drive/')"
      ],
      "execution_count": 0,
      "outputs": [
        {
          "output_type": "stream",
          "text": [
            "Go to this URL in a browser: https://accounts.google.com/o/oauth2/auth?client_id=947318989803-6bn6qk8qdgf4n4g3pfee6491hc0brc4i.apps.googleusercontent.com&redirect_uri=urn%3aietf%3awg%3aoauth%3a2.0%3aoob&response_type=code&scope=email%20https%3a%2f%2fwww.googleapis.com%2fauth%2fdocs.test%20https%3a%2f%2fwww.googleapis.com%2fauth%2fdrive%20https%3a%2f%2fwww.googleapis.com%2fauth%2fdrive.photos.readonly%20https%3a%2f%2fwww.googleapis.com%2fauth%2fpeopleapi.readonly\n",
            "\n",
            "Enter your authorization code:\n",
            "··········\n",
            "Mounted at /content/drive/\n"
          ],
          "name": "stdout"
        }
      ]
    },
    {
      "cell_type": "markdown",
      "metadata": {
        "id": "caCA5DG781s6",
        "colab_type": "text"
      },
      "source": [
        "# Git-lfs install"
      ]
    },
    {
      "cell_type": "code",
      "metadata": {
        "id": "Rsswy_2mtxub",
        "colab_type": "code",
        "outputId": "103de319-1222-40e2-8bd1-b0475b87676b",
        "colab": {
          "base_uri": "https://localhost:8080/",
          "height": 158
        }
      },
      "source": [
        "!sudo apt-get install git-lfs"
      ],
      "execution_count": 0,
      "outputs": [
        {
          "output_type": "stream",
          "text": [
            "Reading package lists... Done\n",
            "Building dependency tree       \n",
            "Reading state information... Done\n",
            "git-lfs is already the newest version (2.3.4-1).\n",
            "The following package was automatically installed and is no longer required:\n",
            "  libnvidia-common-430\n",
            "Use 'sudo apt autoremove' to remove it.\n",
            "0 upgraded, 0 newly installed, 0 to remove and 25 not upgraded.\n"
          ],
          "name": "stdout"
        }
      ]
    },
    {
      "cell_type": "markdown",
      "metadata": {
        "id": "-aox4l-E88Yw",
        "colab_type": "text"
      },
      "source": [
        "# Git clone elliptic"
      ]
    },
    {
      "cell_type": "code",
      "metadata": {
        "id": "RaqwgE9AjHVQ",
        "colab_type": "code",
        "outputId": "6c42ecaf-a21b-49f1-df98-9fbf74913445",
        "colab": {
          "base_uri": "https://localhost:8080/",
          "height": 298
        }
      },
      "source": [
        "%%time\n",
        "#as the file is >100MB we need to use git lfs rather git clone\n",
        "!git lfs clone https://github.com/AmaleshV/Elliptic.git"
      ],
      "execution_count": 0,
      "outputs": [
        {
          "output_type": "stream",
          "text": [
            "WARNING: 'git lfs clone' is deprecated and will not be updated\n",
            "          with new flags from 'git clone'\n",
            "\n",
            "'git clone' has been updated in upstream Git to have comparable\n",
            "speeds to 'git lfs clone'.\n",
            "Cloning into 'Elliptic'...\n",
            "remote: Enumerating objects: 26, done.\u001b[K\n",
            "remote: Counting objects:   3% (1/26)\u001b[K\rremote: Counting objects:   7% (2/26)\u001b[K\rremote: Counting objects:  11% (3/26)\u001b[K\rremote: Counting objects:  15% (4/26)\u001b[K\rremote: Counting objects:  19% (5/26)\u001b[K\rremote: Counting objects:  23% (6/26)\u001b[K\rremote: Counting objects:  26% (7/26)\u001b[K\rremote: Counting objects:  30% (8/26)\u001b[K\rremote: Counting objects:  34% (9/26)\u001b[K\rremote: Counting objects:  38% (10/26)\u001b[K\rremote: Counting objects:  42% (11/26)\u001b[K\rremote: Counting objects:  46% (12/26)\u001b[K\rremote: Counting objects:  50% (13/26)\u001b[K\rremote: Counting objects:  53% (14/26)\u001b[K\rremote: Counting objects:  57% (15/26)\u001b[K\rremote: Counting objects:  61% (16/26)\u001b[K\rremote: Counting objects:  65% (17/26)\u001b[K\rremote: Counting objects:  69% (18/26)\u001b[K\rremote: Counting objects:  73% (19/26)\u001b[K\rremote: Counting objects:  76% (20/26)\u001b[K\rremote: Counting objects:  80% (21/26)\u001b[K\rremote: Counting objects:  84% (22/26)\u001b[K\rremote: Counting objects:  88% (23/26)\u001b[K\rremote: Counting objects:  92% (24/26)\u001b[K\rremote: Counting objects:  96% (25/26)\u001b[K\rremote: Counting objects: 100% (26/26)\u001b[K\rremote: Counting objects: 100% (26/26), done.\u001b[K\n",
            "remote: Compressing objects:   5% (1/20)\u001b[K\rremote: Compressing objects:  10% (2/20)\u001b[K\rremote: Compressing objects:  15% (3/20)\u001b[K\rremote: Compressing objects:  20% (4/20)\u001b[K\rremote: Compressing objects:  25% (5/20)\u001b[K\rremote: Compressing objects:  30% (6/20)\u001b[K\rremote: Compressing objects:  35% (7/20)\u001b[K\rremote: Compressing objects:  40% (8/20)\u001b[K\rremote: Compressing objects:  45% (9/20)\u001b[K\rremote: Compressing objects:  50% (10/20)\u001b[K\rremote: Compressing objects:  55% (11/20)\u001b[K\rremote: Compressing objects:  60% (12/20)\u001b[K\rremote: Compressing objects:  65% (13/20)\u001b[K\rremote: Compressing objects:  70% (14/20)\u001b[K\rremote: Compressing objects:  75% (15/20)\u001b[K\rremote: Compressing objects:  80% (16/20)\u001b[K\rremote: Compressing objects:  85% (17/20)\u001b[K\rremote: Compressing objects:  90% (18/20)\u001b[K\rremote: Compressing objects:  95% (19/20)\u001b[K\rremote: Compressing objects: 100% (20/20)\u001b[K\rremote: Compressing objects: 100% (20/20), done.\u001b[K\n",
            "Unpacking objects:   3% (1/26)   \rUnpacking objects:   7% (2/26)   \rUnpacking objects:  11% (3/26)   \rUnpacking objects:  15% (4/26)   \rremote: Total 26 (delta 6), reused 19 (delta 4), pack-reused 0\u001b[K\n",
            "Unpacking objects:  19% (5/26)   \rUnpacking objects:  23% (6/26)   \rUnpacking objects:  26% (7/26)   \rUnpacking objects:  30% (8/26)   \rUnpacking objects:  34% (9/26)   \rUnpacking objects:  38% (10/26)   \rUnpacking objects:  42% (11/26)   \rUnpacking objects:  46% (12/26)   \rUnpacking objects:  50% (13/26)   \rUnpacking objects:  53% (14/26)   \rUnpacking objects:  57% (15/26)   \rUnpacking objects:  61% (16/26)   \rUnpacking objects:  65% (17/26)   \rUnpacking objects:  69% (18/26)   \rUnpacking objects:  73% (19/26)   \rUnpacking objects:  76% (20/26)   \rUnpacking objects:  80% (21/26)   \rUnpacking objects:  84% (22/26)   \rUnpacking objects:  88% (23/26)   \rUnpacking objects:  92% (24/26)   \rUnpacking objects:  96% (25/26)   \rUnpacking objects: 100% (26/26)   \rUnpacking objects: 100% (26/26), done.\n",
            "\rGit LFS: (0 of 1 files) 0 B / 146.12 MB\rGit LFS: (0 of 1 files) 0 B / 146.12 MB\n",
            "batch response: This repository is over its data quota. Account responsible for LFS bandwidth should purchase more data packs to restore access.\n",
            "error: failed to fetch some objects from 'https://github.com/AmaleshV/Elliptic.git/info/lfs'\n",
            "CPU times: user 18.3 ms, sys: 24.9 ms, total: 43.2 ms\n",
            "Wall time: 1.39 s\n"
          ],
          "name": "stdout"
        }
      ]
    },
    {
      "cell_type": "code",
      "metadata": {
        "id": "RmxJ-FxW-03s",
        "colab_type": "code",
        "colab": {}
      },
      "source": [
        "#!rm -rf Elliptic/"
      ],
      "execution_count": 0,
      "outputs": []
    },
    {
      "cell_type": "code",
      "metadata": {
        "id": "p8ygqGs9ou9n",
        "colab_type": "code",
        "outputId": "d43bdb29-b86e-4c7d-cad3-287a3bb90e09",
        "colab": {
          "base_uri": "https://localhost:8080/",
          "height": 140
        }
      },
      "source": [
        "#unzip the elliptic dataset\n",
        "!unzip -uq \"/content/Elliptic/elliptic-data-set.zip\" -d \"/content/\""
      ],
      "execution_count": 0,
      "outputs": [
        {
          "output_type": "stream",
          "text": [
            "[/content/Elliptic/elliptic-data-set.zip]\n",
            "  End-of-central-directory signature not found.  Either this file is not\n",
            "  a zipfile, or it constitutes one disk of a multi-part archive.  In the\n",
            "  latter case the central directory and zipfile comment will be found on\n",
            "  the last disk(s) of this archive.\n",
            "unzip:  cannot find zipfile directory in one of /content/Elliptic/elliptic-data-set.zip or\n",
            "        /content/Elliptic/elliptic-data-set.zip.zip, and cannot find /content/Elliptic/elliptic-data-set.zip.ZIP, period.\n"
          ],
          "name": "stdout"
        }
      ]
    },
    {
      "cell_type": "code",
      "metadata": {
        "id": "i3XIMzobqlMd",
        "colab_type": "code",
        "outputId": "ee341c4a-2ae7-41d2-d4c3-f3731dfdd0a9",
        "colab": {
          "base_uri": "https://localhost:8080/",
          "height": 34
        }
      },
      "source": [
        "from os import chdir, getcwd\n",
        "chdir('/content/drive/My Drive/elliptic')\n",
        "print(getcwd())"
      ],
      "execution_count": 0,
      "outputs": [
        {
          "output_type": "stream",
          "text": [
            "/content/drive/My Drive/elliptic\n"
          ],
          "name": "stdout"
        }
      ]
    },
    {
      "cell_type": "markdown",
      "metadata": {
        "id": "-ZQPOHw81iYn",
        "colab_type": "text"
      },
      "source": [
        "# From Drive"
      ]
    },
    {
      "cell_type": "code",
      "metadata": {
        "id": "yC8ZhqUL1mq1",
        "colab_type": "code",
        "outputId": "bba49ab3-7583-4f12-eb74-650026d6b30f",
        "colab": {
          "base_uri": "https://localhost:8080/",
          "height": 309
        }
      },
      "source": [
        "#as the bandwidth of github lfs is over we've to stick to an alternative\n",
        "!pip install gdown\n",
        "!gdown --id 1GE6WIhTkFpzWym1wdtYUyT4AolAtYyhu\n",
        "!unzip elliptic-data-set.zip"
      ],
      "execution_count": 0,
      "outputs": [
        {
          "output_type": "stream",
          "text": [
            "Requirement already satisfied: gdown in /usr/local/lib/python3.6/dist-packages (3.6.4)\n",
            "Requirement already satisfied: tqdm in /usr/local/lib/python3.6/dist-packages (from gdown) (4.28.1)\n",
            "Requirement already satisfied: six in /usr/local/lib/python3.6/dist-packages (from gdown) (1.12.0)\n",
            "Requirement already satisfied: requests in /usr/local/lib/python3.6/dist-packages (from gdown) (2.21.0)\n",
            "Requirement already satisfied: idna<2.9,>=2.5 in /usr/local/lib/python3.6/dist-packages (from requests->gdown) (2.8)\n",
            "Requirement already satisfied: urllib3<1.25,>=1.21.1 in /usr/local/lib/python3.6/dist-packages (from requests->gdown) (1.24.3)\n",
            "Requirement already satisfied: chardet<3.1.0,>=3.0.2 in /usr/local/lib/python3.6/dist-packages (from requests->gdown) (3.0.4)\n",
            "Requirement already satisfied: certifi>=2017.4.17 in /usr/local/lib/python3.6/dist-packages (from requests->gdown) (2019.11.28)\n",
            "Downloading...\n",
            "From: https://drive.google.com/uc?id=1GE6WIhTkFpzWym1wdtYUyT4AolAtYyhu\n",
            "To: /content/elliptic-data-set.zip\n",
            "153MB [00:04, 30.8MB/s]\n",
            "Archive:  elliptic-data-set.zip\n",
            "  inflating: elliptic_bitcoin_dataset/elliptic_txs_classes.csv  \n",
            "  inflating: elliptic_bitcoin_dataset/elliptic_txs_edgelist.csv  \n",
            "  inflating: elliptic_bitcoin_dataset/elliptic_txs_features.csv  \n"
          ],
          "name": "stdout"
        }
      ]
    },
    {
      "cell_type": "markdown",
      "metadata": {
        "id": "5I-JIApi9djo",
        "colab_type": "text"
      },
      "source": [
        "# Install required packages"
      ]
    },
    {
      "cell_type": "code",
      "metadata": {
        "id": "CfmoJZarrD8M",
        "colab_type": "code",
        "outputId": "6156cfef-7bfb-42b0-9964-5240cc007d5c",
        "colab": {
          "base_uri": "https://localhost:8080/",
          "height": 411
        }
      },
      "source": [
        "!pip install node2vec\n",
        "from tkinter.filedialog import askopenfilename\n",
        "import matplotlib.pyplot as plt\n",
        "import networkx as nx\n",
        "from node2vec import Node2Vec\n",
        "import node2vec\n",
        "import numpy as np\n",
        "import numpy\n",
        "from sklearn.metrics import roc_curve,roc_auc_score,f1_score,cohen_kappa_score,precision_score,recall_score,confusion_matrix\n",
        "from sklearn.model_selection import ParameterGrid, ParameterSampler\n",
        "from time import time\n",
        "from sklearn.metrics import classification_report,accuracy_score\n",
        "from sklearn.ensemble import IsolationForest\n",
        "from sklearn.neighbors import LocalOutlierFactor\n",
        "from sklearn.svm import OneClassSVM\n",
        "from pylab import rcParams\n",
        "import pandas as pd\n",
        "from sklearn.ensemble import RandomForestClassifier\n",
        "from scipy.stats import itemfreq\n",
        "import plotly.offline as py \n",
        "import plotly.graph_objs as go"
      ],
      "execution_count": 0,
      "outputs": [
        {
          "output_type": "stream",
          "text": [
            "Requirement already satisfied: node2vec in /usr/local/lib/python3.6/dist-packages (0.3.2)\n",
            "Requirement already satisfied: tqdm in /usr/local/lib/python3.6/dist-packages (from node2vec) (4.28.1)\n",
            "Requirement already satisfied: gensim in /usr/local/lib/python3.6/dist-packages (from node2vec) (3.6.0)\n",
            "Requirement already satisfied: joblib>=0.13.2 in /usr/local/lib/python3.6/dist-packages (from node2vec) (0.14.1)\n",
            "Requirement already satisfied: numpy in /usr/local/lib/python3.6/dist-packages (from node2vec) (1.18.1)\n",
            "Requirement already satisfied: networkx in /usr/local/lib/python3.6/dist-packages (from node2vec) (2.4)\n",
            "Requirement already satisfied: scipy>=0.18.1 in /usr/local/lib/python3.6/dist-packages (from gensim->node2vec) (1.4.1)\n",
            "Requirement already satisfied: six>=1.5.0 in /usr/local/lib/python3.6/dist-packages (from gensim->node2vec) (1.12.0)\n",
            "Requirement already satisfied: smart-open>=1.2.1 in /usr/local/lib/python3.6/dist-packages (from gensim->node2vec) (1.9.0)\n",
            "Requirement already satisfied: decorator>=4.3.0 in /usr/local/lib/python3.6/dist-packages (from networkx->node2vec) (4.4.2)\n",
            "Requirement already satisfied: requests in /usr/local/lib/python3.6/dist-packages (from smart-open>=1.2.1->gensim->node2vec) (2.21.0)\n",
            "Requirement already satisfied: boto3 in /usr/local/lib/python3.6/dist-packages (from smart-open>=1.2.1->gensim->node2vec) (1.12.18)\n",
            "Requirement already satisfied: boto>=2.32 in /usr/local/lib/python3.6/dist-packages (from smart-open>=1.2.1->gensim->node2vec) (2.49.0)\n",
            "Requirement already satisfied: chardet<3.1.0,>=3.0.2 in /usr/local/lib/python3.6/dist-packages (from requests->smart-open>=1.2.1->gensim->node2vec) (3.0.4)\n",
            "Requirement already satisfied: certifi>=2017.4.17 in /usr/local/lib/python3.6/dist-packages (from requests->smart-open>=1.2.1->gensim->node2vec) (2019.11.28)\n",
            "Requirement already satisfied: idna<2.9,>=2.5 in /usr/local/lib/python3.6/dist-packages (from requests->smart-open>=1.2.1->gensim->node2vec) (2.8)\n",
            "Requirement already satisfied: urllib3<1.25,>=1.21.1 in /usr/local/lib/python3.6/dist-packages (from requests->smart-open>=1.2.1->gensim->node2vec) (1.24.3)\n",
            "Requirement already satisfied: jmespath<1.0.0,>=0.7.1 in /usr/local/lib/python3.6/dist-packages (from boto3->smart-open>=1.2.1->gensim->node2vec) (0.9.5)\n",
            "Requirement already satisfied: s3transfer<0.4.0,>=0.3.0 in /usr/local/lib/python3.6/dist-packages (from boto3->smart-open>=1.2.1->gensim->node2vec) (0.3.3)\n",
            "Requirement already satisfied: botocore<1.16.0,>=1.15.18 in /usr/local/lib/python3.6/dist-packages (from boto3->smart-open>=1.2.1->gensim->node2vec) (1.15.18)\n",
            "Requirement already satisfied: python-dateutil<3.0.0,>=2.1 in /usr/local/lib/python3.6/dist-packages (from botocore<1.16.0,>=1.15.18->boto3->smart-open>=1.2.1->gensim->node2vec) (2.8.1)\n",
            "Requirement already satisfied: docutils<0.16,>=0.10 in /usr/local/lib/python3.6/dist-packages (from botocore<1.16.0,>=1.15.18->boto3->smart-open>=1.2.1->gensim->node2vec) (0.15.2)\n"
          ],
          "name": "stdout"
        }
      ]
    },
    {
      "cell_type": "code",
      "metadata": {
        "id": "ew0l4XmiZWgu",
        "colab_type": "code",
        "colab": {}
      },
      "source": [
        "?Node2Vec.fit"
      ],
      "execution_count": 0,
      "outputs": []
    },
    {
      "cell_type": "code",
      "metadata": {
        "id": "KrQIrlW9pSvk",
        "colab_type": "code",
        "outputId": "103a927e-20b6-42b3-e155-cf32c9bc3fef",
        "colab": {
          "base_uri": "https://localhost:8080/",
          "height": 221
        }
      },
      "source": [
        "!pip install eif"
      ],
      "execution_count": 0,
      "outputs": [
        {
          "output_type": "stream",
          "text": [
            "Collecting eif\n",
            "\u001b[?25l  Downloading https://files.pythonhosted.org/packages/83/b2/d87d869deeb192ab599c899b91a9ad1d3775d04f5b7adcaf7ff6daa54c24/eif-2.0.2.tar.gz (1.6MB)\n",
            "\u001b[K     |████████████████████████████████| 1.6MB 2.7MB/s \n",
            "\u001b[?25hRequirement already satisfied: numpy in /usr/local/lib/python3.6/dist-packages (from eif) (1.17.5)\n",
            "Requirement already satisfied: cython in /usr/local/lib/python3.6/dist-packages (from eif) (0.29.15)\n",
            "Building wheels for collected packages: eif\n",
            "  Building wheel for eif (setup.py) ... \u001b[?25l\u001b[?25hdone\n",
            "  Created wheel for eif: filename=eif-2.0.2-cp36-cp36m-linux_x86_64.whl size=250752 sha256=fee8364485c649ec7e06326ff07380ce802ee77da58a86328667135a7f95b308\n",
            "  Stored in directory: /root/.cache/pip/wheels/24/ff/c3/6a610ba4a6c8e968483ba15a0e38feacd7c0a26c932b2f91bd\n",
            "Successfully built eif\n",
            "Installing collected packages: eif\n",
            "Successfully installed eif-2.0.2\n"
          ],
          "name": "stdout"
        }
      ]
    },
    {
      "cell_type": "markdown",
      "metadata": {
        "id": "qjQTnegM9s4p",
        "colab_type": "text"
      },
      "source": [
        "# Read the csv files"
      ]
    },
    {
      "cell_type": "code",
      "metadata": {
        "id": "pyLlwZ5SsQ_H",
        "colab_type": "code",
        "outputId": "5949a141-3942-4376-d79a-6af3856039dc",
        "colab": {
          "base_uri": "https://localhost:8080/",
          "height": 51
        }
      },
      "source": [
        "%%time\n",
        "edges = pd.read_csv('/content/elliptic_bitcoin_dataset/elliptic_txs_edgelist.csv',engine='python')\n",
        "features = pd.read_csv('/content/elliptic_bitcoin_dataset/elliptic_txs_features.csv',engine='python',header=None)\n",
        "classes = pd.read_csv('/content/elliptic_bitcoin_dataset/elliptic_txs_classes.csv',engine='python')"
      ],
      "execution_count": 0,
      "outputs": [
        {
          "output_type": "stream",
          "text": [
            "CPU times: user 35 s, sys: 3.36 s, total: 38.4 s\n",
            "Wall time: 38.5 s\n"
          ],
          "name": "stdout"
        }
      ]
    },
    {
      "cell_type": "markdown",
      "metadata": {
        "id": "vzyZeEYK_gow",
        "colab_type": "text"
      },
      "source": [
        "# Building the graph"
      ]
    },
    {
      "cell_type": "code",
      "metadata": {
        "id": "xMZMmAPvMMmW",
        "colab_type": "code",
        "outputId": "06f4f5fb-896b-4da1-b181-e7cb9813113c",
        "colab": {
          "base_uri": "https://localhost:8080/",
          "height": 627
        }
      },
      "source": [
        "len(edges),len(features),len(classes)\n",
        "display(edges.head(5),features.head(5),classes.head(5))\n",
        "\n",
        "#defining features\n",
        "tx_features = [\"tx_feat_\"+str(i) for i in range(2,95)]\n",
        "agg_features = [\"agg_feat_\"+str(i) for i in range(1,73)]\n",
        "features.columns = [\"txId\",\"time_step\"] + tx_features + agg_features\n",
        "features = pd.merge(features,classes,left_on=\"txId\",right_on=\"txId\",how='left')\n",
        "features['class'] = features['class'].apply(lambda x: '0' if x == \"unknown\" else x)\n",
        "\n",
        "#class counts\n",
        "features.groupby('class').size()\n",
        "count_by_class = features[[\"time_step\",'class']].groupby(['time_step','class']).size().to_frame().reset_index()\n",
        "\n",
        "#categorising the class\n",
        "illicit_count = count_by_class[count_by_class['class'] == '1']\n",
        "licit_count = count_by_class[count_by_class['class'] == '2']\n",
        "unknown_count = count_by_class[count_by_class['class'] == \"0\"]\n",
        "\n",
        "#Building graph\n",
        "ids = features['txId']\n",
        "short_edges = edges[edges['txId1'].isin(ids)]\n",
        "graph = nx.from_pandas_edgelist(short_edges, source = 'txId1', target = 'txId2', \n",
        "                                 create_using = nx.DiGraph())"
      ],
      "execution_count": 0,
      "outputs": [
        {
          "output_type": "display_data",
          "data": {
            "text/html": [
              "<div>\n",
              "<style scoped>\n",
              "    .dataframe tbody tr th:only-of-type {\n",
              "        vertical-align: middle;\n",
              "    }\n",
              "\n",
              "    .dataframe tbody tr th {\n",
              "        vertical-align: top;\n",
              "    }\n",
              "\n",
              "    .dataframe thead th {\n",
              "        text-align: right;\n",
              "    }\n",
              "</style>\n",
              "<table border=\"1\" class=\"dataframe\">\n",
              "  <thead>\n",
              "    <tr style=\"text-align: right;\">\n",
              "      <th></th>\n",
              "      <th>txId1</th>\n",
              "      <th>txId2</th>\n",
              "    </tr>\n",
              "  </thead>\n",
              "  <tbody>\n",
              "    <tr>\n",
              "      <th>0</th>\n",
              "      <td>230425980</td>\n",
              "      <td>5530458</td>\n",
              "    </tr>\n",
              "    <tr>\n",
              "      <th>1</th>\n",
              "      <td>232022460</td>\n",
              "      <td>232438397</td>\n",
              "    </tr>\n",
              "    <tr>\n",
              "      <th>2</th>\n",
              "      <td>230460314</td>\n",
              "      <td>230459870</td>\n",
              "    </tr>\n",
              "    <tr>\n",
              "      <th>3</th>\n",
              "      <td>230333930</td>\n",
              "      <td>230595899</td>\n",
              "    </tr>\n",
              "    <tr>\n",
              "      <th>4</th>\n",
              "      <td>232013274</td>\n",
              "      <td>232029206</td>\n",
              "    </tr>\n",
              "  </tbody>\n",
              "</table>\n",
              "</div>"
            ],
            "text/plain": [
              "       txId1      txId2\n",
              "0  230425980    5530458\n",
              "1  232022460  232438397\n",
              "2  230460314  230459870\n",
              "3  230333930  230595899\n",
              "4  232013274  232029206"
            ]
          },
          "metadata": {
            "tags": []
          }
        },
        {
          "output_type": "display_data",
          "data": {
            "text/html": [
              "<div>\n",
              "<style scoped>\n",
              "    .dataframe tbody tr th:only-of-type {\n",
              "        vertical-align: middle;\n",
              "    }\n",
              "\n",
              "    .dataframe tbody tr th {\n",
              "        vertical-align: top;\n",
              "    }\n",
              "\n",
              "    .dataframe thead th {\n",
              "        text-align: right;\n",
              "    }\n",
              "</style>\n",
              "<table border=\"1\" class=\"dataframe\">\n",
              "  <thead>\n",
              "    <tr style=\"text-align: right;\">\n",
              "      <th></th>\n",
              "      <th>0</th>\n",
              "      <th>1</th>\n",
              "      <th>2</th>\n",
              "      <th>3</th>\n",
              "      <th>4</th>\n",
              "      <th>5</th>\n",
              "      <th>6</th>\n",
              "      <th>7</th>\n",
              "      <th>8</th>\n",
              "      <th>9</th>\n",
              "      <th>10</th>\n",
              "      <th>11</th>\n",
              "      <th>12</th>\n",
              "      <th>13</th>\n",
              "      <th>14</th>\n",
              "      <th>15</th>\n",
              "      <th>16</th>\n",
              "      <th>17</th>\n",
              "      <th>18</th>\n",
              "      <th>19</th>\n",
              "      <th>20</th>\n",
              "      <th>21</th>\n",
              "      <th>22</th>\n",
              "      <th>23</th>\n",
              "      <th>24</th>\n",
              "      <th>25</th>\n",
              "      <th>26</th>\n",
              "      <th>27</th>\n",
              "      <th>28</th>\n",
              "      <th>29</th>\n",
              "      <th>30</th>\n",
              "      <th>31</th>\n",
              "      <th>32</th>\n",
              "      <th>33</th>\n",
              "      <th>34</th>\n",
              "      <th>35</th>\n",
              "      <th>36</th>\n",
              "      <th>37</th>\n",
              "      <th>38</th>\n",
              "      <th>39</th>\n",
              "      <th>...</th>\n",
              "      <th>127</th>\n",
              "      <th>128</th>\n",
              "      <th>129</th>\n",
              "      <th>130</th>\n",
              "      <th>131</th>\n",
              "      <th>132</th>\n",
              "      <th>133</th>\n",
              "      <th>134</th>\n",
              "      <th>135</th>\n",
              "      <th>136</th>\n",
              "      <th>137</th>\n",
              "      <th>138</th>\n",
              "      <th>139</th>\n",
              "      <th>140</th>\n",
              "      <th>141</th>\n",
              "      <th>142</th>\n",
              "      <th>143</th>\n",
              "      <th>144</th>\n",
              "      <th>145</th>\n",
              "      <th>146</th>\n",
              "      <th>147</th>\n",
              "      <th>148</th>\n",
              "      <th>149</th>\n",
              "      <th>150</th>\n",
              "      <th>151</th>\n",
              "      <th>152</th>\n",
              "      <th>153</th>\n",
              "      <th>154</th>\n",
              "      <th>155</th>\n",
              "      <th>156</th>\n",
              "      <th>157</th>\n",
              "      <th>158</th>\n",
              "      <th>159</th>\n",
              "      <th>160</th>\n",
              "      <th>161</th>\n",
              "      <th>162</th>\n",
              "      <th>163</th>\n",
              "      <th>164</th>\n",
              "      <th>165</th>\n",
              "      <th>166</th>\n",
              "    </tr>\n",
              "  </thead>\n",
              "  <tbody>\n",
              "    <tr>\n",
              "      <th>0</th>\n",
              "      <td>230425980</td>\n",
              "      <td>1</td>\n",
              "      <td>-0.171469</td>\n",
              "      <td>-0.184668</td>\n",
              "      <td>-1.201369</td>\n",
              "      <td>-0.121970</td>\n",
              "      <td>-0.043875</td>\n",
              "      <td>-0.113002</td>\n",
              "      <td>-0.061584</td>\n",
              "      <td>-0.162097</td>\n",
              "      <td>-0.167933</td>\n",
              "      <td>-0.049707</td>\n",
              "      <td>-0.164402</td>\n",
              "      <td>-0.028741</td>\n",
              "      <td>-0.035391</td>\n",
              "      <td>-0.042955</td>\n",
              "      <td>-0.013282</td>\n",
              "      <td>-0.057195</td>\n",
              "      <td>-0.169609</td>\n",
              "      <td>-0.171154</td>\n",
              "      <td>-0.174473</td>\n",
              "      <td>-1.373657</td>\n",
              "      <td>-1.371460</td>\n",
              "      <td>-0.139731</td>\n",
              "      <td>-0.148912</td>\n",
              "      <td>-0.080147</td>\n",
              "      <td>-0.155661</td>\n",
              "      <td>-0.010763</td>\n",
              "      <td>-0.012107</td>\n",
              "      <td>-0.139733</td>\n",
              "      <td>-0.148907</td>\n",
              "      <td>-0.080147</td>\n",
              "      <td>-0.155661</td>\n",
              "      <td>-0.010669</td>\n",
              "      <td>-0.012005</td>\n",
              "      <td>-0.024669</td>\n",
              "      <td>-0.031272</td>\n",
              "      <td>-0.023045</td>\n",
              "      <td>-0.026215</td>\n",
              "      <td>0.001428</td>\n",
              "      <td>...</td>\n",
              "      <td>-0.097719</td>\n",
              "      <td>-0.127462</td>\n",
              "      <td>0.003143</td>\n",
              "      <td>0.002426</td>\n",
              "      <td>-0.120950</td>\n",
              "      <td>-0.199145</td>\n",
              "      <td>-0.187993</td>\n",
              "      <td>-0.212948</td>\n",
              "      <td>1.064205</td>\n",
              "      <td>1.063787</td>\n",
              "      <td>-1.373782</td>\n",
              "      <td>-1.354735</td>\n",
              "      <td>-0.297975</td>\n",
              "      <td>-1.403698</td>\n",
              "      <td>1.342003</td>\n",
              "      <td>1.340733</td>\n",
              "      <td>-0.171601</td>\n",
              "      <td>-0.458162</td>\n",
              "      <td>-0.423588</td>\n",
              "      <td>-0.440883</td>\n",
              "      <td>-1.015963</td>\n",
              "      <td>-1.016230</td>\n",
              "      <td>-0.968903</td>\n",
              "      <td>-0.375715</td>\n",
              "      <td>0.759748</td>\n",
              "      <td>-0.768329</td>\n",
              "      <td>1.488113</td>\n",
              "      <td>1.487932</td>\n",
              "      <td>-0.216814</td>\n",
              "      <td>-0.605631</td>\n",
              "      <td>-0.562153</td>\n",
              "      <td>-0.600999</td>\n",
              "      <td>1.461330</td>\n",
              "      <td>1.461369</td>\n",
              "      <td>0.018279</td>\n",
              "      <td>-0.087490</td>\n",
              "      <td>-0.131155</td>\n",
              "      <td>-0.097524</td>\n",
              "      <td>-0.120613</td>\n",
              "      <td>-0.119792</td>\n",
              "    </tr>\n",
              "    <tr>\n",
              "      <th>1</th>\n",
              "      <td>5530458</td>\n",
              "      <td>1</td>\n",
              "      <td>-0.171484</td>\n",
              "      <td>-0.184668</td>\n",
              "      <td>-1.201369</td>\n",
              "      <td>-0.121970</td>\n",
              "      <td>-0.043875</td>\n",
              "      <td>-0.113002</td>\n",
              "      <td>-0.061584</td>\n",
              "      <td>-0.162112</td>\n",
              "      <td>-0.167948</td>\n",
              "      <td>-0.049707</td>\n",
              "      <td>-0.164417</td>\n",
              "      <td>-0.028741</td>\n",
              "      <td>-0.035391</td>\n",
              "      <td>-0.042955</td>\n",
              "      <td>-0.013282</td>\n",
              "      <td>-0.055327</td>\n",
              "      <td>-0.169757</td>\n",
              "      <td>-0.171477</td>\n",
              "      <td>-0.174490</td>\n",
              "      <td>0.887058</td>\n",
              "      <td>0.884557</td>\n",
              "      <td>-0.139731</td>\n",
              "      <td>-0.148912</td>\n",
              "      <td>-0.080147</td>\n",
              "      <td>-0.155661</td>\n",
              "      <td>-0.010763</td>\n",
              "      <td>-0.012107</td>\n",
              "      <td>-0.139733</td>\n",
              "      <td>-0.148907</td>\n",
              "      <td>-0.080147</td>\n",
              "      <td>-0.155661</td>\n",
              "      <td>-0.010669</td>\n",
              "      <td>-0.012005</td>\n",
              "      <td>-0.024669</td>\n",
              "      <td>-0.031272</td>\n",
              "      <td>-0.023045</td>\n",
              "      <td>-0.026215</td>\n",
              "      <td>0.001428</td>\n",
              "      <td>...</td>\n",
              "      <td>-0.097719</td>\n",
              "      <td>-0.127462</td>\n",
              "      <td>0.003143</td>\n",
              "      <td>0.002426</td>\n",
              "      <td>-0.121330</td>\n",
              "      <td>-0.110933</td>\n",
              "      <td>-0.075909</td>\n",
              "      <td>-0.111641</td>\n",
              "      <td>-1.159649</td>\n",
              "      <td>-1.160129</td>\n",
              "      <td>-1.373723</td>\n",
              "      <td>-1.353918</td>\n",
              "      <td>-0.295982</td>\n",
              "      <td>-1.403215</td>\n",
              "      <td>-0.975738</td>\n",
              "      <td>-0.975237</td>\n",
              "      <td>-0.168742</td>\n",
              "      <td>-0.263290</td>\n",
              "      <td>-0.186389</td>\n",
              "      <td>-0.250875</td>\n",
              "      <td>-1.015963</td>\n",
              "      <td>-1.016230</td>\n",
              "      <td>-0.968903</td>\n",
              "      <td>0.146997</td>\n",
              "      <td>1.366287</td>\n",
              "      <td>-0.464773</td>\n",
              "      <td>-1.116918</td>\n",
              "      <td>-1.116948</td>\n",
              "      <td>-0.216814</td>\n",
              "      <td>0.634272</td>\n",
              "      <td>0.947382</td>\n",
              "      <td>0.673103</td>\n",
              "      <td>-0.979074</td>\n",
              "      <td>-0.978556</td>\n",
              "      <td>0.018279</td>\n",
              "      <td>-0.087490</td>\n",
              "      <td>-0.131155</td>\n",
              "      <td>-0.097524</td>\n",
              "      <td>-0.120613</td>\n",
              "      <td>-0.119792</td>\n",
              "    </tr>\n",
              "    <tr>\n",
              "      <th>2</th>\n",
              "      <td>232022460</td>\n",
              "      <td>1</td>\n",
              "      <td>-0.172107</td>\n",
              "      <td>-0.184668</td>\n",
              "      <td>-1.201369</td>\n",
              "      <td>-0.121970</td>\n",
              "      <td>-0.043875</td>\n",
              "      <td>-0.113002</td>\n",
              "      <td>-0.061584</td>\n",
              "      <td>-0.162749</td>\n",
              "      <td>-0.168576</td>\n",
              "      <td>-0.049707</td>\n",
              "      <td>-0.165054</td>\n",
              "      <td>-0.028741</td>\n",
              "      <td>-0.035391</td>\n",
              "      <td>-0.042955</td>\n",
              "      <td>-0.013282</td>\n",
              "      <td>-0.055298</td>\n",
              "      <td>-0.170400</td>\n",
              "      <td>-0.172217</td>\n",
              "      <td>-0.175227</td>\n",
              "      <td>0.887058</td>\n",
              "      <td>0.884557</td>\n",
              "      <td>-0.139729</td>\n",
              "      <td>-0.148911</td>\n",
              "      <td>-0.080147</td>\n",
              "      <td>-0.155660</td>\n",
              "      <td>-0.010763</td>\n",
              "      <td>-0.012107</td>\n",
              "      <td>-0.139731</td>\n",
              "      <td>-0.148906</td>\n",
              "      <td>-0.080147</td>\n",
              "      <td>-0.155660</td>\n",
              "      <td>-0.010669</td>\n",
              "      <td>-0.012005</td>\n",
              "      <td>-0.024669</td>\n",
              "      <td>-0.031272</td>\n",
              "      <td>-0.023045</td>\n",
              "      <td>-0.026215</td>\n",
              "      <td>0.001428</td>\n",
              "      <td>...</td>\n",
              "      <td>-0.097719</td>\n",
              "      <td>-0.129496</td>\n",
              "      <td>0.003143</td>\n",
              "      <td>0.002426</td>\n",
              "      <td>-0.122974</td>\n",
              "      <td>-0.041556</td>\n",
              "      <td>0.012549</td>\n",
              "      <td>-0.032244</td>\n",
              "      <td>-1.159649</td>\n",
              "      <td>-1.160129</td>\n",
              "      <td>-1.373902</td>\n",
              "      <td>-1.356210</td>\n",
              "      <td>-0.301548</td>\n",
              "      <td>-1.404577</td>\n",
              "      <td>-0.975738</td>\n",
              "      <td>-0.975237</td>\n",
              "      <td>-0.168742</td>\n",
              "      <td>-0.192468</td>\n",
              "      <td>-0.099790</td>\n",
              "      <td>-0.182133</td>\n",
              "      <td>-1.015963</td>\n",
              "      <td>-1.016230</td>\n",
              "      <td>-0.968903</td>\n",
              "      <td>-1.421138</td>\n",
              "      <td>-0.453330</td>\n",
              "      <td>-1.375441</td>\n",
              "      <td>-1.116918</td>\n",
              "      <td>-1.116948</td>\n",
              "      <td>-0.216814</td>\n",
              "      <td>0.407161</td>\n",
              "      <td>0.670883</td>\n",
              "      <td>0.439728</td>\n",
              "      <td>-0.979074</td>\n",
              "      <td>-0.978556</td>\n",
              "      <td>-0.098889</td>\n",
              "      <td>-0.106715</td>\n",
              "      <td>-0.131155</td>\n",
              "      <td>-0.183671</td>\n",
              "      <td>-0.120613</td>\n",
              "      <td>-0.119792</td>\n",
              "    </tr>\n",
              "    <tr>\n",
              "      <th>3</th>\n",
              "      <td>232438397</td>\n",
              "      <td>1</td>\n",
              "      <td>0.163054</td>\n",
              "      <td>1.963790</td>\n",
              "      <td>-0.646376</td>\n",
              "      <td>12.409294</td>\n",
              "      <td>-0.063725</td>\n",
              "      <td>9.782742</td>\n",
              "      <td>12.414558</td>\n",
              "      <td>-0.163645</td>\n",
              "      <td>-0.115831</td>\n",
              "      <td>0.043598</td>\n",
              "      <td>-0.163905</td>\n",
              "      <td>1.059993</td>\n",
              "      <td>2.397457</td>\n",
              "      <td>-0.063200</td>\n",
              "      <td>-0.013282</td>\n",
              "      <td>4.800240</td>\n",
              "      <td>0.174329</td>\n",
              "      <td>-0.172908</td>\n",
              "      <td>0.619399</td>\n",
              "      <td>-0.243300</td>\n",
              "      <td>-0.243452</td>\n",
              "      <td>-0.139732</td>\n",
              "      <td>-0.146895</td>\n",
              "      <td>-0.079667</td>\n",
              "      <td>-0.155554</td>\n",
              "      <td>0.773847</td>\n",
              "      <td>0.378516</td>\n",
              "      <td>-0.139734</td>\n",
              "      <td>-0.146891</td>\n",
              "      <td>-0.079667</td>\n",
              "      <td>-0.155553</td>\n",
              "      <td>0.773932</td>\n",
              "      <td>0.378593</td>\n",
              "      <td>-0.024669</td>\n",
              "      <td>-0.031271</td>\n",
              "      <td>-0.023044</td>\n",
              "      <td>-0.026215</td>\n",
              "      <td>0.101008</td>\n",
              "      <td>...</td>\n",
              "      <td>0.019771</td>\n",
              "      <td>-0.119195</td>\n",
              "      <td>0.147881</td>\n",
              "      <td>0.956170</td>\n",
              "      <td>0.759756</td>\n",
              "      <td>-0.041556</td>\n",
              "      <td>-0.188716</td>\n",
              "      <td>0.149949</td>\n",
              "      <td>-0.047722</td>\n",
              "      <td>-0.048171</td>\n",
              "      <td>-1.373723</td>\n",
              "      <td>-1.356131</td>\n",
              "      <td>-0.301754</td>\n",
              "      <td>-1.404445</td>\n",
              "      <td>0.183133</td>\n",
              "      <td>0.182748</td>\n",
              "      <td>-0.163577</td>\n",
              "      <td>-0.456561</td>\n",
              "      <td>-0.424672</td>\n",
              "      <td>-0.436915</td>\n",
              "      <td>0.143001</td>\n",
              "      <td>0.142525</td>\n",
              "      <td>-0.425896</td>\n",
              "      <td>-1.421138</td>\n",
              "      <td>-1.059868</td>\n",
              "      <td>-1.071885</td>\n",
              "      <td>0.185597</td>\n",
              "      <td>0.185492</td>\n",
              "      <td>-0.216814</td>\n",
              "      <td>-0.617907</td>\n",
              "      <td>-0.577099</td>\n",
              "      <td>-0.613614</td>\n",
              "      <td>0.241128</td>\n",
              "      <td>0.241406</td>\n",
              "      <td>1.072793</td>\n",
              "      <td>0.085530</td>\n",
              "      <td>-0.131155</td>\n",
              "      <td>0.677799</td>\n",
              "      <td>-0.120613</td>\n",
              "      <td>-0.119792</td>\n",
              "    </tr>\n",
              "    <tr>\n",
              "      <th>4</th>\n",
              "      <td>230460314</td>\n",
              "      <td>1</td>\n",
              "      <td>1.011523</td>\n",
              "      <td>-0.081127</td>\n",
              "      <td>-1.201369</td>\n",
              "      <td>1.153668</td>\n",
              "      <td>0.333276</td>\n",
              "      <td>1.312656</td>\n",
              "      <td>-0.061584</td>\n",
              "      <td>-0.163523</td>\n",
              "      <td>0.041399</td>\n",
              "      <td>0.935886</td>\n",
              "      <td>-0.098695</td>\n",
              "      <td>1.203038</td>\n",
              "      <td>0.988902</td>\n",
              "      <td>0.341693</td>\n",
              "      <td>-0.013282</td>\n",
              "      <td>-0.057392</td>\n",
              "      <td>0.058329</td>\n",
              "      <td>-0.032930</td>\n",
              "      <td>-0.042709</td>\n",
              "      <td>0.065455</td>\n",
              "      <td>0.324947</td>\n",
              "      <td>-0.139732</td>\n",
              "      <td>-0.148854</td>\n",
              "      <td>-0.080105</td>\n",
              "      <td>-0.155638</td>\n",
              "      <td>1.313051</td>\n",
              "      <td>1.106965</td>\n",
              "      <td>-0.139734</td>\n",
              "      <td>-0.148850</td>\n",
              "      <td>-0.080104</td>\n",
              "      <td>-0.155638</td>\n",
              "      <td>1.313130</td>\n",
              "      <td>1.106995</td>\n",
              "      <td>-0.024669</td>\n",
              "      <td>-0.031272</td>\n",
              "      <td>-0.023045</td>\n",
              "      <td>-0.026215</td>\n",
              "      <td>0.001428</td>\n",
              "      <td>...</td>\n",
              "      <td>-0.077909</td>\n",
              "      <td>-0.093120</td>\n",
              "      <td>1.587690</td>\n",
              "      <td>1.586539</td>\n",
              "      <td>-0.101820</td>\n",
              "      <td>0.704558</td>\n",
              "      <td>0.448898</td>\n",
              "      <td>0.659662</td>\n",
              "      <td>0.311091</td>\n",
              "      <td>0.302198</td>\n",
              "      <td>-1.373962</td>\n",
              "      <td>-1.355393</td>\n",
              "      <td>-0.300941</td>\n",
              "      <td>-1.404583</td>\n",
              "      <td>0.064846</td>\n",
              "      <td>-0.035232</td>\n",
              "      <td>-0.168742</td>\n",
              "      <td>-0.442156</td>\n",
              "      <td>-0.416540</td>\n",
              "      <td>-0.418273</td>\n",
              "      <td>0.367605</td>\n",
              "      <td>0.392035</td>\n",
              "      <td>-0.968903</td>\n",
              "      <td>-1.943850</td>\n",
              "      <td>-1.059868</td>\n",
              "      <td>-1.678997</td>\n",
              "      <td>0.185597</td>\n",
              "      <td>0.185492</td>\n",
              "      <td>-0.169472</td>\n",
              "      <td>-0.470592</td>\n",
              "      <td>-0.511871</td>\n",
              "      <td>-0.400422</td>\n",
              "      <td>0.517257</td>\n",
              "      <td>0.579382</td>\n",
              "      <td>0.018279</td>\n",
              "      <td>0.277775</td>\n",
              "      <td>0.326394</td>\n",
              "      <td>1.293750</td>\n",
              "      <td>0.178136</td>\n",
              "      <td>0.179117</td>\n",
              "    </tr>\n",
              "  </tbody>\n",
              "</table>\n",
              "<p>5 rows × 167 columns</p>\n",
              "</div>"
            ],
            "text/plain": [
              "         0    1         2         3    ...       163       164       165       166\n",
              "0  230425980    1 -0.171469 -0.184668  ... -0.131155 -0.097524 -0.120613 -0.119792\n",
              "1    5530458    1 -0.171484 -0.184668  ... -0.131155 -0.097524 -0.120613 -0.119792\n",
              "2  232022460    1 -0.172107 -0.184668  ... -0.131155 -0.183671 -0.120613 -0.119792\n",
              "3  232438397    1  0.163054  1.963790  ... -0.131155  0.677799 -0.120613 -0.119792\n",
              "4  230460314    1  1.011523 -0.081127  ...  0.326394  1.293750  0.178136  0.179117\n",
              "\n",
              "[5 rows x 167 columns]"
            ]
          },
          "metadata": {
            "tags": []
          }
        },
        {
          "output_type": "display_data",
          "data": {
            "text/html": [
              "<div>\n",
              "<style scoped>\n",
              "    .dataframe tbody tr th:only-of-type {\n",
              "        vertical-align: middle;\n",
              "    }\n",
              "\n",
              "    .dataframe tbody tr th {\n",
              "        vertical-align: top;\n",
              "    }\n",
              "\n",
              "    .dataframe thead th {\n",
              "        text-align: right;\n",
              "    }\n",
              "</style>\n",
              "<table border=\"1\" class=\"dataframe\">\n",
              "  <thead>\n",
              "    <tr style=\"text-align: right;\">\n",
              "      <th></th>\n",
              "      <th>txId</th>\n",
              "      <th>class</th>\n",
              "    </tr>\n",
              "  </thead>\n",
              "  <tbody>\n",
              "    <tr>\n",
              "      <th>0</th>\n",
              "      <td>230425980</td>\n",
              "      <td>unknown</td>\n",
              "    </tr>\n",
              "    <tr>\n",
              "      <th>1</th>\n",
              "      <td>5530458</td>\n",
              "      <td>unknown</td>\n",
              "    </tr>\n",
              "    <tr>\n",
              "      <th>2</th>\n",
              "      <td>232022460</td>\n",
              "      <td>unknown</td>\n",
              "    </tr>\n",
              "    <tr>\n",
              "      <th>3</th>\n",
              "      <td>232438397</td>\n",
              "      <td>2</td>\n",
              "    </tr>\n",
              "    <tr>\n",
              "      <th>4</th>\n",
              "      <td>230460314</td>\n",
              "      <td>unknown</td>\n",
              "    </tr>\n",
              "  </tbody>\n",
              "</table>\n",
              "</div>"
            ],
            "text/plain": [
              "        txId    class\n",
              "0  230425980  unknown\n",
              "1    5530458  unknown\n",
              "2  232022460  unknown\n",
              "3  232438397        2\n",
              "4  230460314  unknown"
            ]
          },
          "metadata": {
            "tags": []
          }
        }
      ]
    },
    {
      "cell_type": "markdown",
      "metadata": {
        "id": "1ChqDrzJBnjg",
        "colab_type": "text"
      },
      "source": [
        "# Node2vec and anomaly detection"
      ]
    },
    {
      "cell_type": "code",
      "metadata": {
        "id": "FtNKrYeBMWSl",
        "colab_type": "code",
        "outputId": "93f58ed1-c213-4515-f142-0ea8a64ef117",
        "colab": {
          "base_uri": "https://localhost:8080/",
          "height": 178
        }
      },
      "source": [
        "i= [0.25,0.5]\n",
        "j= [ 0.1,0.5,1,10, 100]\n",
        "for p in i:\n",
        "    for q in j:\n",
        "        node2vec = Node2Vec(graph, dimensions = 128, walk_length=20, \n",
        "                                        num_walks = 50, p=p, q=q, \n",
        "                                        workers=1)\n",
        "        model = node2vec.fit(window=10, min_count=1, batch_words=4)\n",
        "        #extracting embeddings for anomaly detection\n",
        "        node2vec_dict = {}\n",
        "        for node in graph.nodes():\n",
        "            node = str(node)\n",
        "            node2vec_dict[node] = model.wv[node]\n",
        "        \n",
        "        node2vec_pd = pd.DataFrame.from_dict(node2vec_dict, orient='index')\n",
        "        #node2vec_pd.to_csv(r'C:\\Users\\AMALESH\\Desktop\\node2vec.csv')\n",
        "        \n",
        "        \n",
        "        x=node2vec_pd\n",
        "        print(\"{}{}=pd.DataFrame.from_dict(node2vec_dict, orient='index')\".format(i,j))\n",
        "        #anomaly detection using isolation and local outlier factor\n",
        "        classifiers = {\n",
        "            \"Isolation Forest\":IsolationForest(n_estimators=500, max_samples=len(x), \n",
        "                                               contamination=0.108,random_state=123, verbose=0,behaviour=\"new\"),\n",
        "            \"Local Outlier Factor\":LocalOutlierFactor(n_neighbors=20, algorithm='auto', \n",
        "                                                      leaf_size=30, metric='minkowski',\n",
        "                                                      p=2, metric_params=None, contamination=0.108),\n",
        "        }\n",
        "        for i, (clf_name,clf) in enumerate(classifiers.items()):\n",
        "            #Fit the data and tag outliers\n",
        "            if clf_name == \"Local Outlier Factor\":\n",
        "                y_pred = clf.fit_predict(x)\n",
        "                scores_prediction = clf.negative_outlier_factor_\n",
        "            else:    \n",
        "                clf.fit(x)\n",
        "                scores_prediction = clf.decision_function(x)\n",
        "                y_pred = clf.predict(x)\n",
        "            #Reshape the prediction values to 0 for Valid transactions , 1 for Fraud transactions\n",
        "            y_pred[y_pred == 1] = 0\n",
        "            y_pred[y_pred == -1] = 1\n",
        "            y_num= classes['class']\n",
        "            #filtering the given classes and replacing the licit transactions (2) as 0 (according to the predictions of anomaly detection)\n",
        "            y_num=y_num.replace('unknown', numpy.NaN)\n",
        "            y_num=y_num.replace('2','0' )\n",
        "        \n",
        "            y_num= y_num.to_frame()\n",
        "            y_num['y_pred']= y_pred\n",
        "            #filter the columns of only given transaction class\n",
        "            y_num=y_num.dropna()\n",
        "        \n",
        "            y_num['class']=pd.to_numeric(y_num['class'])\n",
        "            y_num['y_pred']=pd.to_numeric(y_num['y_pred'])\n",
        "            n_errors = (y_num['y_pred'] != y_num['class']).sum()\n",
        "            # Run Classification Metrics\n",
        "            print(\"node2vec parameters p:{},q:{}\".format(node2vec.p,node2vec.q), file=open(r\"/content/output.txt\", \"a\"))\n",
        "            print(\"{}: {}\".format(clf_name,n_errors), file=open(r\"/content/output.txt\", \"a\"))\n",
        "            print(\"Accuracy Score :\", file=open(r\"/content/output.txt\", \"a\"))\n",
        "            print(accuracy_score(y_num['class'],y_num['y_pred']), file=open(r\"/content/output.txt\", \"a\"))\n",
        "            print(\"Classification Report :\", file=open(r\"/content/output.txt\", \"a\"))\n",
        "            print(classification_report(y_num['class'],y_num['y_pred']), file=open(r\"/content/output.txt\", \"a\"))\n",
        "            print(\"confusion matrix:\", file=open(r\"/content/output.txt\", \"a\"))\n",
        "            print(confusion_matrix(y_num['class'],y_num['y_pred']), file=open(r\"/content/output.txt\", \"a\"))\n",
        "            print(\"ROC_AUC:\", file=open(r\"/content/output.txt\", \"a\"))\n",
        "            print(roc_auc_score(y_num['class'],y_num['y_pred']), file=open(r\"/content/output.txt\", \"a\"))\n",
        "\n",
        "exit()"
      ],
      "execution_count": 0,
      "outputs": [
        {
          "output_type": "stream",
          "text": [
            "Computing transition probabilities: 100%|██████████| 203769/203769 [00:05<00:00, 34041.55it/s]\n",
            "Generating walks (CPU: 1): 100%|██████████| 50/50 [18:49<00:00, 23.22s/it]\n",
            "/usr/local/lib/python3.6/dist-packages/sklearn/ensemble/_iforest.py:248: FutureWarning: 'behaviour' is deprecated in 0.22 and will be removed in 0.24. You should not pass or set this parameter.\n",
            "  FutureWarning\n",
            "Computing transition probabilities: 100%|██████████| 203769/203769 [00:04<00:00, 43054.34it/s]\n",
            "Generating walks (CPU: 1): 100%|██████████| 50/50 [19:02<00:00, 22.76s/it]\n",
            "/usr/local/lib/python3.6/dist-packages/sklearn/ensemble/_iforest.py:248: FutureWarning: 'behaviour' is deprecated in 0.22 and will be removed in 0.24. You should not pass or set this parameter.\n",
            "  FutureWarning\n"
          ],
          "name": "stderr"
        }
      ]
    },
    {
      "cell_type": "code",
      "metadata": {
        "id": "PvTP8arpk9_V",
        "colab_type": "code",
        "outputId": "79de1ddc-12e1-4015-df99-2b7a620dadba",
        "colab": {
          "base_uri": "https://localhost:8080/",
          "height": 153
        }
      },
      "source": [
        "i= [16,32]\n",
        "j= [ 4,10]\n",
        "for p in i:\n",
        "    for q in j:\n",
        "        node2vec = Node2Vec(graph, dimensions = p, walk_length=20, \n",
        "                                        num_walks = 50, p=1, q=1, \n",
        "                                        workers=1)\n",
        "        model = node2vec.fit(window=q, min_count=1, batch_words=4)\n",
        "        #extracting embeddings for anomaly detection\n",
        "        node2vec_dict = {}\n",
        "        for node in graph.nodes():\n",
        "            node = str(node)\n",
        "            node2vec_dict[node] = model.wv[node]\n",
        "        exec(\"node2vecd{}w{}=pd.DataFrame.from_dict(node2vec_dict, orient='index')\".format(p,q))\n",
        "exit()\n",
        "\n",
        "import dill\n",
        "dill.dump_session('node2vec.pkl')"
      ],
      "execution_count": 0,
      "outputs": [
        {
          "output_type": "stream",
          "text": [
            "Computing transition probabilities: 100%|██████████| 203769/203769 [00:07<00:00, 27851.15it/s]\n",
            "Generating walks (CPU: 1): 100%|██████████| 50/50 [21:40<00:00, 26.03s/it]\n",
            "Computing transition probabilities: 100%|██████████| 203769/203769 [00:13<00:00, 14650.52it/s]\n",
            "Generating walks (CPU: 1): 100%|██████████| 50/50 [21:49<00:00, 26.20s/it]\n",
            "Computing transition probabilities: 100%|██████████| 203769/203769 [00:11<00:00, 17098.40it/s]\n",
            "Generating walks (CPU: 1): 100%|██████████| 50/50 [21:29<00:00, 26.04s/it]\n",
            "Computing transition probabilities: 100%|██████████| 203769/203769 [00:06<00:00, 32666.41it/s]\n",
            "Generating walks (CPU: 1): 100%|██████████| 50/50 [21:42<00:00, 26.19s/it]\n"
          ],
          "name": "stderr"
        }
      ]
    },
    {
      "cell_type": "code",
      "metadata": {
        "id": "NkVFSg_dyQMc",
        "colab_type": "code",
        "outputId": "01cb90ee-d047-4545-8d53-52d6b6a90803",
        "colab": {
          "base_uri": "https://localhost:8080/",
          "height": 52
        }
      },
      "source": [
        "node2vec = Node2Vec(graph, dimensions = 128, walk_length=20, \n",
        "                                num_walks = 50, p=0.5, q=10, \n",
        "                                workers=1)\n",
        "model = node2vec.fit(window=10, min_count=1, batch_words=4)\n",
        "#extracting embeddings for anomaly detection\n",
        "node2vec_dict = {}\n",
        "for node in graph.nodes():\n",
        "    node = str(node)\n",
        "    node2vec_dict[node] = model.wv[node]\n",
        "\n",
        "node2vec_pd = pd.DataFrame.from_dict(node2vec_dict, orient='index')\n",
        "#node2vec_pd.to_csv(r'C:\\Users\\AMALESH\\Desktop\\node2vec.csv')\n",
        "\n",
        "node2vec_pd.to_csv(r'/content/node2vec.csv')"
      ],
      "execution_count": 0,
      "outputs": [
        {
          "output_type": "stream",
          "text": [
            "Computing transition probabilities: 100%|██████████| 203769/203769 [00:07<00:00, 25983.44it/s]\n",
            "Generating walks (CPU: 1): 100%|██████████| 50/50 [23:16<00:00, 28.19s/it]\n"
          ],
          "name": "stderr"
        }
      ]
    },
    {
      "cell_type": "code",
      "metadata": {
        "id": "fQP04sa4ynUm",
        "colab_type": "code",
        "outputId": "8ee18743-9f4f-49e0-ed4a-d353398f3434",
        "colab": {
          "base_uri": "https://localhost:8080/",
          "height": 618
        }
      },
      "source": [
        "!pip install graph2vec-learn\n",
        "import graph2vec\n"
      ],
      "execution_count": 0,
      "outputs": [
        {
          "output_type": "stream",
          "text": [
            "Collecting graph2vec-learn\n",
            "  Downloading https://files.pythonhosted.org/packages/fe/ef/cf8254cc6feec618f319a9c866ee7a19f481e4eb8c67631cd086fe62280d/graph2vec-learn-0.1.3.tar.gz\n",
            "Requirement already satisfied: gensim in /usr/local/lib/python3.6/dist-packages (from graph2vec-learn) (3.6.0)\n",
            "Requirement already satisfied: networkx in /usr/local/lib/python3.6/dist-packages (from graph2vec-learn) (2.4)\n",
            "Requirement already satisfied: numba in /usr/local/lib/python3.6/dist-packages (from graph2vec-learn) (0.47.0)\n",
            "Requirement already satisfied: numpy in /usr/local/lib/python3.6/dist-packages (from graph2vec-learn) (1.17.5)\n",
            "Requirement already satisfied: pandas in /usr/local/lib/python3.6/dist-packages (from graph2vec-learn) (0.25.3)\n",
            "Requirement already satisfied: scipy in /usr/local/lib/python3.6/dist-packages (from graph2vec-learn) (1.4.1)\n",
            "Requirement already satisfied: six>=1.5.0 in /usr/local/lib/python3.6/dist-packages (from gensim->graph2vec-learn) (1.12.0)\n",
            "Requirement already satisfied: smart-open>=1.2.1 in /usr/local/lib/python3.6/dist-packages (from gensim->graph2vec-learn) (1.9.0)\n",
            "Requirement already satisfied: decorator>=4.3.0 in /usr/local/lib/python3.6/dist-packages (from networkx->graph2vec-learn) (4.4.1)\n",
            "Requirement already satisfied: llvmlite>=0.31.0dev0 in /usr/local/lib/python3.6/dist-packages (from numba->graph2vec-learn) (0.31.0)\n",
            "Requirement already satisfied: setuptools in /usr/local/lib/python3.6/dist-packages (from numba->graph2vec-learn) (45.1.0)\n",
            "Requirement already satisfied: pytz>=2017.2 in /usr/local/lib/python3.6/dist-packages (from pandas->graph2vec-learn) (2018.9)\n",
            "Requirement already satisfied: python-dateutil>=2.6.1 in /usr/local/lib/python3.6/dist-packages (from pandas->graph2vec-learn) (2.6.1)\n",
            "Requirement already satisfied: boto>=2.32 in /usr/local/lib/python3.6/dist-packages (from smart-open>=1.2.1->gensim->graph2vec-learn) (2.49.0)\n",
            "Requirement already satisfied: boto3 in /usr/local/lib/python3.6/dist-packages (from smart-open>=1.2.1->gensim->graph2vec-learn) (1.11.15)\n",
            "Requirement already satisfied: requests in /usr/local/lib/python3.6/dist-packages (from smart-open>=1.2.1->gensim->graph2vec-learn) (2.21.0)\n",
            "Requirement already satisfied: s3transfer<0.4.0,>=0.3.0 in /usr/local/lib/python3.6/dist-packages (from boto3->smart-open>=1.2.1->gensim->graph2vec-learn) (0.3.3)\n",
            "Requirement already satisfied: botocore<1.15.0,>=1.14.15 in /usr/local/lib/python3.6/dist-packages (from boto3->smart-open>=1.2.1->gensim->graph2vec-learn) (1.14.15)\n",
            "Requirement already satisfied: jmespath<1.0.0,>=0.7.1 in /usr/local/lib/python3.6/dist-packages (from boto3->smart-open>=1.2.1->gensim->graph2vec-learn) (0.9.4)\n",
            "Requirement already satisfied: idna<2.9,>=2.5 in /usr/local/lib/python3.6/dist-packages (from requests->smart-open>=1.2.1->gensim->graph2vec-learn) (2.8)\n",
            "Requirement already satisfied: certifi>=2017.4.17 in /usr/local/lib/python3.6/dist-packages (from requests->smart-open>=1.2.1->gensim->graph2vec-learn) (2019.11.28)\n",
            "Requirement already satisfied: urllib3<1.25,>=1.21.1 in /usr/local/lib/python3.6/dist-packages (from requests->smart-open>=1.2.1->gensim->graph2vec-learn) (1.24.3)\n",
            "Requirement already satisfied: chardet<3.1.0,>=3.0.2 in /usr/local/lib/python3.6/dist-packages (from requests->smart-open>=1.2.1->gensim->graph2vec-learn) (3.0.4)\n",
            "Requirement already satisfied: docutils<0.16,>=0.10 in /usr/local/lib/python3.6/dist-packages (from botocore<1.15.0,>=1.14.15->boto3->smart-open>=1.2.1->gensim->graph2vec-learn) (0.15.2)\n",
            "Building wheels for collected packages: graph2vec-learn\n",
            "  Building wheel for graph2vec-learn (setup.py) ... \u001b[?25l\u001b[?25hdone\n",
            "  Created wheel for graph2vec-learn: filename=graph2vec_learn-0.1.3-cp36-none-any.whl size=5709 sha256=26eb8a3872b752bfef6c6012a71b11203ede155951c75ae9d21631b752dc98bc\n",
            "  Stored in directory: /root/.cache/pip/wheels/0d/96/f7/beab1e19b0a3aad6e7ce16093548b44011a03108c2b9819592\n",
            "Successfully built graph2vec-learn\n",
            "Installing collected packages: graph2vec-learn\n",
            "Successfully installed graph2vec-learn-0.1.3\n"
          ],
          "name": "stdout"
        }
      ]
    },
    {
      "cell_type": "code",
      "metadata": {
        "id": "mPu9h7itGjys",
        "colab_type": "code",
        "outputId": "a20ec4ed-395d-4491-e70a-47750300387c",
        "colab": {
          "base_uri": "https://localhost:8080/",
          "height": 70
        }
      },
      "source": [
        "node2vec = graph2vec.Node2Vec(threads=8,epochs = 5, walklen=20, \n",
        "                                 return_weight=0.5, neighbor_weight=10, \n",
        "                                w2vparams={'window': 10,\n",
        "                                'min_count':1,\n",
        "                                'batch_words': 4})\n",
        "model = node2vec.fit(graph,verbose=1)"
      ],
      "execution_count": 0,
      "outputs": [
        {
          "output_type": "stream",
          "text": [
            "Making walks... Done, T=17.62\n",
            "Mapping Walk Names... Done, T=38.34\n",
            "Training W2V... Done, T=2022.51\n"
          ],
          "name": "stdout"
        }
      ]
    },
    {
      "cell_type": "code",
      "metadata": {
        "id": "F0P7xWwNEIBF",
        "colab_type": "code",
        "outputId": "297d6f98-e3c7-4f40-cde3-3339e4cc12e0",
        "colab": {
          "base_uri": "https://localhost:8080/",
          "height": 34
        }
      },
      "source": [
        "print(model)"
      ],
      "execution_count": 0,
      "outputs": [
        {
          "output_type": "stream",
          "text": [
            "None\n"
          ],
          "name": "stdout"
        }
      ]
    },
    {
      "cell_type": "code",
      "metadata": {
        "id": "XlC5RJFlQps1",
        "colab_type": "code",
        "outputId": "db474817-e7c7-43f5-8756-805f12327be3",
        "colab": {
          "base_uri": "https://localhost:8080/",
          "height": 54
        }
      },
      "source": [
        "graph.nodes()"
      ],
      "execution_count": 0,
      "outputs": []
    }
  ]
}